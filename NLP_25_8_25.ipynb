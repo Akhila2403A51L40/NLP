{
  "nbformat": 4,
  "nbformat_minor": 0,
  "metadata": {
    "colab": {
      "provenance": [],
      "authorship_tag": "ABX9TyN7jSvnXWg8ku4DM5mZgm9O",
      "include_colab_link": true
    },
    "kernelspec": {
      "name": "python3",
      "display_name": "Python 3"
    },
    "language_info": {
      "name": "python"
    }
  },
  "cells": [
    {
      "cell_type": "markdown",
      "metadata": {
        "id": "view-in-github",
        "colab_type": "text"
      },
      "source": [
        "<a href=\"https://colab.research.google.com/github/Akhila2403A51L40/NLP/blob/main/NLP_25_8_25.ipynb\" target=\"_parent\"><img src=\"https://colab.research.google.com/assets/colab-badge.svg\" alt=\"Open In Colab\"/></a>"
      ]
    },
    {
      "cell_type": "code",
      "execution_count": 6,
      "metadata": {
        "colab": {
          "base_uri": "https://localhost:8080/"
        },
        "id": "jXwqBPwzWBws",
        "outputId": "aed2e43b-f4fd-41e1-de41-3283004a1b00"
      },
      "outputs": [
        {
          "output_type": "stream",
          "name": "stderr",
          "text": [
            "[nltk_data] Downloading package punkt to /root/nltk_data...\n",
            "[nltk_data]   Package punkt is already up-to-date!\n",
            "[nltk_data] Downloading package punkt_tab to /root/nltk_data...\n",
            "[nltk_data]   Package punkt_tab is already up-to-date!\n",
            "[nltk_data] Downloading package stopwords to /root/nltk_data...\n",
            "[nltk_data]   Package stopwords is already up-to-date!\n"
          ]
        },
        {
          "output_type": "execute_result",
          "data": {
            "text/plain": [
              "True"
            ]
          },
          "metadata": {},
          "execution_count": 6
        }
      ],
      "source": [
        "import nltk\n",
        "nltk.download('punkt')\n",
        "nltk.download('punkt_tab')\n",
        "nltk.download('stopwords')"
      ]
    },
    {
      "cell_type": "code",
      "source": [
        "import pandas as pd\n",
        "import re"
      ],
      "metadata": {
        "id": "PHZBwZc4XDVw"
      },
      "execution_count": 12,
      "outputs": []
    },
    {
      "cell_type": "code",
      "source": [
        "df=pd.read_csv('/content/movie_genre_classification_final.csv')"
      ],
      "metadata": {
        "id": "YCCKT9SWXOyR"
      },
      "execution_count": 5,
      "outputs": []
    },
    {
      "cell_type": "code",
      "source": [
        "from nltk.corpus import stopwords\n",
        "from nltk.tokenize import word_tokenize\n",
        "from sklearn.feature_extraction.text import CountVectorizer\n",
        "import string"
      ],
      "metadata": {
        "id": "wnri-qcRZVur"
      },
      "execution_count": 7,
      "outputs": []
    },
    {
      "cell_type": "code",
      "source": [
        "def preprocess_text(Description):\n",
        "  text=Description.lower()\n",
        "  text=text.translate(str.maketrans(string.punctuation, \" \"*len(string.punctuation)))\n",
        "  text=re.sub(r'[^a-zA-Z0-9\\s]', ' ',text)\n",
        "  tokens=word_tokenize(text)\n",
        "  stop_words=set(stopwords.words('english'))\n",
        "  tokens=[word for word in tokens if word not in stop_words]\n",
        "  return ' '.join(tokens)\n"
      ],
      "metadata": {
        "id": "C4jZ6lXZa4Hj"
      },
      "execution_count": 36,
      "outputs": []
    },
    {
      "cell_type": "code",
      "source": [
        "df[\"cleaned_text\"]=df[\"Description\"].astype(str).apply(preprocess_text)"
      ],
      "metadata": {
        "id": "I4fKO2ulcC3y"
      },
      "execution_count": 37,
      "outputs": []
    },
    {
      "cell_type": "code",
      "source": [
        "print(df)"
      ],
      "metadata": {
        "colab": {
          "base_uri": "https://localhost:8080/"
        },
        "id": "mpq33FtxgXu5",
        "outputId": "d45c5a9d-3379-4b30-8bb1-de91b6a011ba"
      },
      "execution_count": 38,
      "outputs": [
        {
          "output_type": "stream",
          "name": "stdout",
          "text": [
            "                 Title  Year    Director  Duration  Rating   Votes  \\\n",
            "0      Winds of Fate 4  1980      R. Lee       167     4.1  182425   \n",
            "1         Firestorm 11  2014     S. Chen       166     4.1  449351   \n",
            "2        Silent Echo 2  2016     A. Khan       170     4.1  363328   \n",
            "3        City Lights 4  1982    L. Zhang       170     9.9   62371   \n",
            "4       Broken Truth 1  1990    L. Zhang        91     5.3    4600   \n",
            "...                ...   ...         ...       ...     ...     ...   \n",
            "49995    Ocean Call 20  2013  T. Johnson       149     6.8  340904   \n",
            "49996    Ocean Call 13  2001    M. Brown       166     7.6  214228   \n",
            "49997  Last Mission 15  2017    J. Smith       158     9.2  251931   \n",
            "49998     Firestorm 11  1992    J. Smith       166     7.2  487956   \n",
            "49999   Silent Echo 12  2009    P. Adams       117     4.3  392762   \n",
            "\n",
            "                                             Description  Language  \\\n",
            "0       A touching love story with heartwarming moments.   Spanish   \n",
            "1      A fast-paced thriller with intense action scenes.    Korean   \n",
            "2      A fast-paced thriller with intense action scenes.    Korean   \n",
            "3      An emotional journey exploring complex charact...  Japanese   \n",
            "4      An imaginative world filled with magic and won...    Korean   \n",
            "...                                                  ...       ...   \n",
            "49995   A touching love story with heartwarming moments.   English   \n",
            "49996  A spine-chilling tale that evokes fear and dread.  Japanese   \n",
            "49997   A light-hearted comedy that guarantees laughter.    Korean   \n",
            "49998  A spine-chilling tale that evokes fear and dread.  Mandarin   \n",
            "49999  An imaginative world filled with magic and won...   Spanish   \n",
            "\n",
            "           Country  Budget_USD  BoxOffice_USD    Genre  Production_Company  \\\n",
            "0            China    39979615      179936008  Romance          DreamWorks   \n",
            "1            China   116404774      802121619   Action             Netflix   \n",
            "2            Japan   166261330      225526871   Action               Pixar   \n",
            "3            Japan    28861315       69813738    Drama             Netflix   \n",
            "4              USA    43890403      375136716  Fantasy       Studio Ghibli   \n",
            "...            ...         ...            ...      ...                 ...   \n",
            "49995           UK    62456512        3291117  Romance      Yash Raj Films   \n",
            "49996  South Korea    33239921      465759764   Horror             Netflix   \n",
            "49997  South Korea    79589169      820566917   Comedy  Paramount Pictures   \n",
            "49998  South Korea   179834680      131779818   Horror      Amazon Studios   \n",
            "49999       France    45434366      957562425  Fantasy       Sony Pictures   \n",
            "\n",
            "      Content_Rating         Lead_Actor  Num_Awards  Critic_Reviews  \\\n",
            "0                  R     Kangana Ranaut           8             229   \n",
            "1                  R     Kangana Ranaut          20             466   \n",
            "2                 PG   Amitabh Bachchan          16             539   \n",
            "3              NC-17    Natalie Portman          15             606   \n",
            "4                 PG        Chris Evans           6             330   \n",
            "...              ...                ...         ...             ...   \n",
            "49995          PG-13  Leonardo DiCaprio          18             481   \n",
            "49996          PG-13        Emma Watson           3              84   \n",
            "49997          PG-13     Shah Rukh Khan           1             994   \n",
            "49998              R     Kangana Ranaut          10             349   \n",
            "49999          PG-13        Emma Watson          20             191   \n",
            "\n",
            "                                         cleaned_text  \n",
            "0            touching love story heartwarming moments  \n",
            "1           fast paced thriller intense action scenes  \n",
            "2           fast paced thriller intense action scenes  \n",
            "3      emotional journey exploring complex characters  \n",
            "4               imaginative world filled magic wonder  \n",
            "...                                               ...  \n",
            "49995        touching love story heartwarming moments  \n",
            "49996           spine chilling tale evokes fear dread  \n",
            "49997        light hearted comedy guarantees laughter  \n",
            "49998           spine chilling tale evokes fear dread  \n",
            "49999           imaginative world filled magic wonder  \n",
            "\n",
            "[50000 rows x 18 columns]\n"
          ]
        }
      ]
    },
    {
      "cell_type": "code",
      "source": [
        "cv=CountVectorizer(max_features=50)\n",
        "X=cv.fit_transform(df[\"cleaned_text\"])\n",
        "print(X)"
      ],
      "metadata": {
        "colab": {
          "base_uri": "https://localhost:8080/"
        },
        "id": "QVRNwfJ9jdvr",
        "outputId": "740dff92-5e40-41db-b210-f34e9d9bb4d5"
      },
      "execution_count": 41,
      "outputs": [
        {
          "output_type": "stream",
          "name": "stdout",
          "text": [
            "<Compressed Sparse Row sparse matrix of dtype 'int64'\n",
            "\twith 264367 stored elements and shape (50000, 36)>\n",
            "  Coords\tValues\n",
            "  (0, 31)\t1\n",
            "  (0, 20)\t1\n",
            "  (0, 27)\t1\n",
            "  (0, 14)\t1\n",
            "  (0, 22)\t1\n",
            "  (1, 9)\t1\n",
            "  (1, 23)\t1\n",
            "  (1, 30)\t1\n",
            "  (1, 16)\t1\n",
            "  (1, 0)\t1\n",
            "  (1, 25)\t1\n",
            "  (2, 9)\t1\n",
            "  (2, 23)\t1\n",
            "  (2, 30)\t1\n",
            "  (2, 16)\t1\n",
            "  (2, 0)\t1\n",
            "  (2, 25)\t1\n",
            "  (3, 6)\t1\n",
            "  (3, 17)\t1\n",
            "  (3, 8)\t1\n",
            "  (3, 4)\t1\n",
            "  (3, 1)\t1\n",
            "  (4, 15)\t1\n",
            "  (4, 35)\t1\n",
            "  (4, 11)\t1\n",
            "  :\t:\n",
            "  (49995, 27)\t1\n",
            "  (49995, 14)\t1\n",
            "  (49995, 22)\t1\n",
            "  (49996, 26)\t1\n",
            "  (49996, 2)\t1\n",
            "  (49996, 29)\t1\n",
            "  (49996, 7)\t1\n",
            "  (49996, 10)\t1\n",
            "  (49996, 5)\t1\n",
            "  (49997, 19)\t1\n",
            "  (49997, 13)\t1\n",
            "  (49997, 3)\t1\n",
            "  (49997, 12)\t1\n",
            "  (49997, 18)\t1\n",
            "  (49998, 26)\t1\n",
            "  (49998, 2)\t1\n",
            "  (49998, 29)\t1\n",
            "  (49998, 7)\t1\n",
            "  (49998, 10)\t1\n",
            "  (49998, 5)\t1\n",
            "  (49999, 15)\t1\n",
            "  (49999, 35)\t1\n",
            "  (49999, 11)\t1\n",
            "  (49999, 21)\t1\n",
            "  (49999, 34)\t1\n"
          ]
        }
      ]
    }
  ]
}
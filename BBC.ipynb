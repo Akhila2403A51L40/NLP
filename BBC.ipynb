{
  "nbformat": 4,
  "nbformat_minor": 0,
  "metadata": {
    "colab": {
      "provenance": [],
      "authorship_tag": "ABX9TyPeb4S4xOTua8Y1km3MUupO",
      "include_colab_link": true
    },
    "kernelspec": {
      "name": "python3",
      "display_name": "Python 3"
    },
    "language_info": {
      "name": "python"
    }
  },
  "cells": [
    {
      "cell_type": "markdown",
      "metadata": {
        "id": "view-in-github",
        "colab_type": "text"
      },
      "source": [
        "<a href=\"https://colab.research.google.com/github/Akhila2403A51L40/NLP/blob/main/BBC.ipynb\" target=\"_parent\"><img src=\"https://colab.research.google.com/assets/colab-badge.svg\" alt=\"Open In Colab\"/></a>"
      ]
    },
    {
      "cell_type": "code",
      "execution_count": 84,
      "metadata": {
        "colab": {
          "base_uri": "https://localhost:8080/"
        },
        "id": "b6jpNshnWoPQ",
        "outputId": "c10d592b-727f-4353-eedb-264dc7a57e78"
      },
      "outputs": [
        {
          "output_type": "stream",
          "name": "stdout",
          "text": [
            "Requirement already satisfied: spacy in /usr/local/lib/python3.11/dist-packages (3.8.7)\n",
            "Requirement already satisfied: spacy-legacy<3.1.0,>=3.0.11 in /usr/local/lib/python3.11/dist-packages (from spacy) (3.0.12)\n",
            "Requirement already satisfied: spacy-loggers<2.0.0,>=1.0.0 in /usr/local/lib/python3.11/dist-packages (from spacy) (1.0.5)\n",
            "Requirement already satisfied: murmurhash<1.1.0,>=0.28.0 in /usr/local/lib/python3.11/dist-packages (from spacy) (1.0.13)\n",
            "Requirement already satisfied: cymem<2.1.0,>=2.0.2 in /usr/local/lib/python3.11/dist-packages (from spacy) (2.0.11)\n",
            "Requirement already satisfied: preshed<3.1.0,>=3.0.2 in /usr/local/lib/python3.11/dist-packages (from spacy) (3.0.10)\n",
            "Requirement already satisfied: thinc<8.4.0,>=8.3.4 in /usr/local/lib/python3.11/dist-packages (from spacy) (8.3.6)\n",
            "Requirement already satisfied: wasabi<1.2.0,>=0.9.1 in /usr/local/lib/python3.11/dist-packages (from spacy) (1.1.3)\n",
            "Requirement already satisfied: srsly<3.0.0,>=2.4.3 in /usr/local/lib/python3.11/dist-packages (from spacy) (2.5.1)\n",
            "Requirement already satisfied: catalogue<2.1.0,>=2.0.6 in /usr/local/lib/python3.11/dist-packages (from spacy) (2.0.10)\n",
            "Requirement already satisfied: weasel<0.5.0,>=0.1.0 in /usr/local/lib/python3.11/dist-packages (from spacy) (0.4.1)\n",
            "Requirement already satisfied: typer<1.0.0,>=0.3.0 in /usr/local/lib/python3.11/dist-packages (from spacy) (0.16.0)\n",
            "Requirement already satisfied: tqdm<5.0.0,>=4.38.0 in /usr/local/lib/python3.11/dist-packages (from spacy) (4.67.1)\n",
            "Requirement already satisfied: numpy>=1.19.0 in /usr/local/lib/python3.11/dist-packages (from spacy) (2.0.2)\n",
            "Requirement already satisfied: requests<3.0.0,>=2.13.0 in /usr/local/lib/python3.11/dist-packages (from spacy) (2.32.3)\n",
            "Requirement already satisfied: pydantic!=1.8,!=1.8.1,<3.0.0,>=1.7.4 in /usr/local/lib/python3.11/dist-packages (from spacy) (2.11.7)\n",
            "Requirement already satisfied: jinja2 in /usr/local/lib/python3.11/dist-packages (from spacy) (3.1.6)\n",
            "Requirement already satisfied: setuptools in /usr/local/lib/python3.11/dist-packages (from spacy) (75.2.0)\n",
            "Requirement already satisfied: packaging>=20.0 in /usr/local/lib/python3.11/dist-packages (from spacy) (25.0)\n",
            "Requirement already satisfied: langcodes<4.0.0,>=3.2.0 in /usr/local/lib/python3.11/dist-packages (from spacy) (3.5.0)\n",
            "Requirement already satisfied: language-data>=1.2 in /usr/local/lib/python3.11/dist-packages (from langcodes<4.0.0,>=3.2.0->spacy) (1.3.0)\n",
            "Requirement already satisfied: annotated-types>=0.6.0 in /usr/local/lib/python3.11/dist-packages (from pydantic!=1.8,!=1.8.1,<3.0.0,>=1.7.4->spacy) (0.7.0)\n",
            "Requirement already satisfied: pydantic-core==2.33.2 in /usr/local/lib/python3.11/dist-packages (from pydantic!=1.8,!=1.8.1,<3.0.0,>=1.7.4->spacy) (2.33.2)\n",
            "Requirement already satisfied: typing-extensions>=4.12.2 in /usr/local/lib/python3.11/dist-packages (from pydantic!=1.8,!=1.8.1,<3.0.0,>=1.7.4->spacy) (4.14.1)\n",
            "Requirement already satisfied: typing-inspection>=0.4.0 in /usr/local/lib/python3.11/dist-packages (from pydantic!=1.8,!=1.8.1,<3.0.0,>=1.7.4->spacy) (0.4.1)\n",
            "Requirement already satisfied: charset-normalizer<4,>=2 in /usr/local/lib/python3.11/dist-packages (from requests<3.0.0,>=2.13.0->spacy) (3.4.2)\n",
            "Requirement already satisfied: idna<4,>=2.5 in /usr/local/lib/python3.11/dist-packages (from requests<3.0.0,>=2.13.0->spacy) (3.10)\n",
            "Requirement already satisfied: urllib3<3,>=1.21.1 in /usr/local/lib/python3.11/dist-packages (from requests<3.0.0,>=2.13.0->spacy) (2.5.0)\n",
            "Requirement already satisfied: certifi>=2017.4.17 in /usr/local/lib/python3.11/dist-packages (from requests<3.0.0,>=2.13.0->spacy) (2025.8.3)\n",
            "Requirement already satisfied: blis<1.4.0,>=1.3.0 in /usr/local/lib/python3.11/dist-packages (from thinc<8.4.0,>=8.3.4->spacy) (1.3.0)\n",
            "Requirement already satisfied: confection<1.0.0,>=0.0.1 in /usr/local/lib/python3.11/dist-packages (from thinc<8.4.0,>=8.3.4->spacy) (0.1.5)\n",
            "Requirement already satisfied: click>=8.0.0 in /usr/local/lib/python3.11/dist-packages (from typer<1.0.0,>=0.3.0->spacy) (8.2.1)\n",
            "Requirement already satisfied: shellingham>=1.3.0 in /usr/local/lib/python3.11/dist-packages (from typer<1.0.0,>=0.3.0->spacy) (1.5.4)\n",
            "Requirement already satisfied: rich>=10.11.0 in /usr/local/lib/python3.11/dist-packages (from typer<1.0.0,>=0.3.0->spacy) (13.9.4)\n",
            "Requirement already satisfied: cloudpathlib<1.0.0,>=0.7.0 in /usr/local/lib/python3.11/dist-packages (from weasel<0.5.0,>=0.1.0->spacy) (0.21.1)\n",
            "Requirement already satisfied: smart-open<8.0.0,>=5.2.1 in /usr/local/lib/python3.11/dist-packages (from weasel<0.5.0,>=0.1.0->spacy) (7.3.0.post1)\n",
            "Requirement already satisfied: MarkupSafe>=2.0 in /usr/local/lib/python3.11/dist-packages (from jinja2->spacy) (3.0.2)\n",
            "Requirement already satisfied: marisa-trie>=1.1.0 in /usr/local/lib/python3.11/dist-packages (from language-data>=1.2->langcodes<4.0.0,>=3.2.0->spacy) (1.2.1)\n",
            "Requirement already satisfied: markdown-it-py>=2.2.0 in /usr/local/lib/python3.11/dist-packages (from rich>=10.11.0->typer<1.0.0,>=0.3.0->spacy) (3.0.0)\n",
            "Requirement already satisfied: pygments<3.0.0,>=2.13.0 in /usr/local/lib/python3.11/dist-packages (from rich>=10.11.0->typer<1.0.0,>=0.3.0->spacy) (2.19.2)\n",
            "Requirement already satisfied: wrapt in /usr/local/lib/python3.11/dist-packages (from smart-open<8.0.0,>=5.2.1->weasel<0.5.0,>=0.1.0->spacy) (1.17.2)\n",
            "Requirement already satisfied: mdurl~=0.1 in /usr/local/lib/python3.11/dist-packages (from markdown-it-py>=2.2.0->rich>=10.11.0->typer<1.0.0,>=0.3.0->spacy) (0.1.2)\n"
          ]
        }
      ],
      "source": [
        "!pip install spacy"
      ]
    },
    {
      "cell_type": "code",
      "source": [
        "import pandas as pd"
      ],
      "metadata": {
        "id": "GxISAbomXLCB"
      },
      "execution_count": 85,
      "outputs": []
    },
    {
      "cell_type": "code",
      "source": [
        "import spacy"
      ],
      "metadata": {
        "id": "CqNo9qnKXP2v"
      },
      "execution_count": 86,
      "outputs": []
    },
    {
      "cell_type": "code",
      "source": [
        "df=pd.read_csv('/content/archive (1).zip')"
      ],
      "metadata": {
        "id": "G1wzWFlyXTJa"
      },
      "execution_count": 87,
      "outputs": []
    },
    {
      "cell_type": "code",
      "source": [
        "print(df.head())"
      ],
      "metadata": {
        "colab": {
          "base_uri": "https://localhost:8080/"
        },
        "id": "0FJXftbOX8ZP",
        "outputId": "4ae670a8-032d-48e6-ab64-7d971c40c5c7"
      },
      "execution_count": 88,
      "outputs": [
        {
          "output_type": "stream",
          "name": "stdout",
          "text": [
            "                                               title  \\\n",
            "0  Ukraine: Angry Zelensky vows to punish Russian...   \n",
            "1  War in Ukraine: Taking cover in a town under a...   \n",
            "2         Ukraine war 'catastrophic for global food'   \n",
            "3  Manchester Arena bombing: Saffie Roussos's par...   \n",
            "4  Ukraine conflict: Oil price soars to highest l...   \n",
            "\n",
            "                         pubDate  \\\n",
            "0  Mon, 07 Mar 2022 08:01:56 GMT   \n",
            "1  Sun, 06 Mar 2022 22:49:58 GMT   \n",
            "2  Mon, 07 Mar 2022 00:14:42 GMT   \n",
            "3  Mon, 07 Mar 2022 00:05:40 GMT   \n",
            "4  Mon, 07 Mar 2022 08:15:53 GMT   \n",
            "\n",
            "                                               guid  \\\n",
            "0  https://www.bbc.co.uk/news/world-europe-60638042   \n",
            "1  https://www.bbc.co.uk/news/world-europe-60641873   \n",
            "2      https://www.bbc.co.uk/news/business-60623941   \n",
            "3            https://www.bbc.co.uk/news/uk-60579079   \n",
            "4      https://www.bbc.co.uk/news/business-60642786   \n",
            "\n",
            "                                                link  \\\n",
            "0  https://www.bbc.co.uk/news/world-europe-606380...   \n",
            "1  https://www.bbc.co.uk/news/world-europe-606418...   \n",
            "2  https://www.bbc.co.uk/news/business-60623941?a...   \n",
            "3  https://www.bbc.co.uk/news/uk-60579079?at_medi...   \n",
            "4  https://www.bbc.co.uk/news/business-60642786?a...   \n",
            "\n",
            "                                         description  \n",
            "0  The Ukrainian president says the country will ...  \n",
            "1  Jeremy Bowen was on the frontline in Irpin, as...  \n",
            "2  One of the world's biggest fertiliser firms sa...  \n",
            "3  The parents of the Manchester Arena bombing's ...  \n",
            "4  Consumers are feeling the impact of higher ene...  \n"
          ]
        }
      ]
    },
    {
      "cell_type": "code",
      "source": [
        "BBC=spacy.load('en_core_web_sm')"
      ],
      "metadata": {
        "id": "EjXfh2_2XdkV"
      },
      "execution_count": 89,
      "outputs": []
    },
    {
      "cell_type": "code",
      "source": [
        "text=df['description'].iloc[0]"
      ],
      "metadata": {
        "id": "6vjjAk_3Xj3f"
      },
      "execution_count": 90,
      "outputs": []
    },
    {
      "cell_type": "code",
      "source": [
        "print(text)"
      ],
      "metadata": {
        "colab": {
          "base_uri": "https://localhost:8080/"
        },
        "id": "nvaFZVCIXvzp",
        "outputId": "4be69f66-f815-46c3-fe08-bde0e1e44754"
      },
      "execution_count": 91,
      "outputs": [
        {
          "output_type": "stream",
          "name": "stdout",
          "text": [
            "The Ukrainian president says the country will not forgive or forget those who murder its civilians.\n"
          ]
        }
      ]
    },
    {
      "cell_type": "code",
      "source": [
        "doc=BBC(text)"
      ],
      "metadata": {
        "id": "LO5PRuy_Ysgj"
      },
      "execution_count": 92,
      "outputs": []
    },
    {
      "cell_type": "code",
      "source": [
        "for i in doc.sents:\n",
        "  print (i.text)"
      ],
      "metadata": {
        "colab": {
          "base_uri": "https://localhost:8080/"
        },
        "id": "n28V8Ts_YxZV",
        "outputId": "161bfe84-0914-4534-eacf-b43592dce6f8"
      },
      "execution_count": 93,
      "outputs": [
        {
          "output_type": "stream",
          "name": "stdout",
          "text": [
            "The Ukrainian president says the country will not forgive or forget those who murder its civilians.\n"
          ]
        }
      ]
    },
    {
      "cell_type": "code",
      "source": [
        "for i in doc:\n",
        "  print (i.text)"
      ],
      "metadata": {
        "colab": {
          "base_uri": "https://localhost:8080/"
        },
        "id": "4yEuhdmgZAK3",
        "outputId": "7fc85e0f-5ea5-4c48-e1c4-71c47197cd10"
      },
      "execution_count": 94,
      "outputs": [
        {
          "output_type": "stream",
          "name": "stdout",
          "text": [
            "The\n",
            "Ukrainian\n",
            "president\n",
            "says\n",
            "the\n",
            "country\n",
            "will\n",
            "not\n",
            "forgive\n",
            "or\n",
            "forget\n",
            "those\n",
            "who\n",
            "murder\n",
            "its\n",
            "civilians\n",
            ".\n"
          ]
        }
      ]
    },
    {
      "cell_type": "code",
      "source": [
        "w=('The Berners Street hoax was perpetrated by the writer Theodore Hook in London in 1810. He made a bet that he could transform any property into the most talked-about address in London. He spent six weeks sending between 1000 and 4000 letters to tradespeople and businesses ordering deliveries of their goods and services to 54 Berners Street, London, at various times on the same day. Several well-known people were also invited to call on the address, including the chairmen of the Bank of England and the East India Company, the Duke of Gloucester, and the Lord Mayor of London. Chimney sweeps began arriving at the address at 5:00 am on the day, followed by hundreds of traders and businessmen; goods deliveries included organs, furniture, coal and a coffin. ')"
      ],
      "metadata": {
        "id": "gAcjxxUVZqW6"
      },
      "execution_count": 95,
      "outputs": []
    },
    {
      "cell_type": "code",
      "source": [
        "doc1=BBC(w)"
      ],
      "metadata": {
        "id": "TOY2szV4ZzBJ"
      },
      "execution_count": 96,
      "outputs": []
    },
    {
      "cell_type": "code",
      "source": [
        "for i in doc1.sents:\n",
        "  print (i.text)"
      ],
      "metadata": {
        "colab": {
          "base_uri": "https://localhost:8080/"
        },
        "id": "Nx2v6s9yaFz8",
        "outputId": "7c35e1a8-4494-4d10-a14f-814f1a065b76"
      },
      "execution_count": 97,
      "outputs": [
        {
          "output_type": "stream",
          "name": "stdout",
          "text": [
            "The Berners Street hoax was perpetrated by the writer Theodore Hook in London in 1810.\n",
            "He made a bet that he could transform any property into the most talked-about address in London.\n",
            "He spent six weeks sending between 1000 and 4000 letters to tradespeople and businesses ordering deliveries of their goods and services to 54 Berners Street, London, at various times on the same day.\n",
            "Several well-known people were also invited to call on the address, including the chairmen of the Bank of England and the East India Company, the Duke of Gloucester, and the Lord Mayor of London.\n",
            "Chimney sweeps began arriving at the address at 5:00 am on the day, followed by hundreds of traders and businessmen; goods deliveries included organs, furniture, coal and a coffin.\n"
          ]
        }
      ]
    },
    {
      "cell_type": "code",
      "source": [
        "for i in doc1:\n",
        "  print (i.text)"
      ],
      "metadata": {
        "colab": {
          "base_uri": "https://localhost:8080/"
        },
        "id": "J8qc4SLkaO7w",
        "outputId": "3ca5c006-46a8-4d69-a237-d2af3f779f8d"
      },
      "execution_count": 98,
      "outputs": [
        {
          "output_type": "stream",
          "name": "stdout",
          "text": [
            "The\n",
            "Berners\n",
            "Street\n",
            "hoax\n",
            "was\n",
            "perpetrated\n",
            "by\n",
            "the\n",
            "writer\n",
            "Theodore\n",
            "Hook\n",
            "in\n",
            "London\n",
            "in\n",
            "1810\n",
            ".\n",
            "He\n",
            "made\n",
            "a\n",
            "bet\n",
            "that\n",
            "he\n",
            "could\n",
            "transform\n",
            "any\n",
            "property\n",
            "into\n",
            "the\n",
            "most\n",
            "talked\n",
            "-\n",
            "about\n",
            "address\n",
            "in\n",
            "London\n",
            ".\n",
            "He\n",
            "spent\n",
            "six\n",
            "weeks\n",
            "sending\n",
            "between\n",
            "1000\n",
            "and\n",
            "4000\n",
            "letters\n",
            "to\n",
            "tradespeople\n",
            "and\n",
            "businesses\n",
            "ordering\n",
            "deliveries\n",
            "of\n",
            "their\n",
            "goods\n",
            "and\n",
            "services\n",
            "to\n",
            "54\n",
            "Berners\n",
            "Street\n",
            ",\n",
            "London\n",
            ",\n",
            "at\n",
            "various\n",
            "times\n",
            "on\n",
            "the\n",
            "same\n",
            "day\n",
            ".\n",
            "Several\n",
            "well\n",
            "-\n",
            "known\n",
            "people\n",
            "were\n",
            "also\n",
            "invited\n",
            "to\n",
            "call\n",
            "on\n",
            "the\n",
            "address\n",
            ",\n",
            "including\n",
            "the\n",
            "chairmen\n",
            "of\n",
            "the\n",
            "Bank\n",
            "of\n",
            "England\n",
            "and\n",
            "the\n",
            "East\n",
            "India\n",
            "Company\n",
            ",\n",
            "the\n",
            "Duke\n",
            "of\n",
            "Gloucester\n",
            ",\n",
            "and\n",
            "the\n",
            "Lord\n",
            "Mayor\n",
            "of\n",
            "London\n",
            ".\n",
            "Chimney\n",
            "sweeps\n",
            "began\n",
            "arriving\n",
            "at\n",
            "the\n",
            "address\n",
            "at\n",
            "5:00\n",
            "am\n",
            "on\n",
            "the\n",
            "day\n",
            ",\n",
            "followed\n",
            "by\n",
            "hundreds\n",
            "of\n",
            "traders\n",
            "and\n",
            "businessmen\n",
            ";\n",
            "goods\n",
            "deliveries\n",
            "included\n",
            "organs\n",
            ",\n",
            "furniture\n",
            ",\n",
            "coal\n",
            "and\n",
            "a\n",
            "coffin\n",
            ".\n"
          ]
        }
      ]
    },
    {
      "cell_type": "markdown",
      "source": [
        "# Stemming and Lemmatization"
      ],
      "metadata": {
        "id": "qspSkle8iAlV"
      }
    },
    {
      "cell_type": "code",
      "source": [
        "from nltk.stem import PorterStemmer"
      ],
      "metadata": {
        "id": "jICGjzCkbVYY"
      },
      "execution_count": 99,
      "outputs": []
    },
    {
      "cell_type": "code",
      "source": [
        "st=PorterStemmer()"
      ],
      "metadata": {
        "id": "LoWr7mmtbdmw"
      },
      "execution_count": 100,
      "outputs": []
    },
    {
      "cell_type": "code",
      "source": [
        "for d in doc:\n",
        "  if d.is_alpha:\n",
        "    print(d,\"===\",d.lemma_)"
      ],
      "metadata": {
        "colab": {
          "base_uri": "https://localhost:8080/"
        },
        "id": "xt4qsLyEbiD6",
        "outputId": "9b92aa7a-89c4-4b1c-fde0-f05f97201fa7"
      },
      "execution_count": 101,
      "outputs": [
        {
          "output_type": "stream",
          "name": "stdout",
          "text": [
            "The === the\n",
            "Ukrainian === ukrainian\n",
            "president === president\n",
            "says === say\n",
            "the === the\n",
            "country === country\n",
            "will === will\n",
            "not === not\n",
            "forgive === forgive\n",
            "or === or\n",
            "forget === forget\n",
            "those === those\n",
            "who === who\n",
            "murder === murder\n",
            "its === its\n",
            "civilians === civilian\n"
          ]
        }
      ]
    },
    {
      "cell_type": "code",
      "source": [
        "for d in doc:\n",
        "  if d.is_alpha:\n",
        "    print(d,\"===\",st.stem(d.text))"
      ],
      "metadata": {
        "colab": {
          "base_uri": "https://localhost:8080/"
        },
        "id": "QI5sD6zjc53v",
        "outputId": "11f9afdd-f89b-408e-82aa-cac111539ad0"
      },
      "execution_count": 102,
      "outputs": [
        {
          "output_type": "stream",
          "name": "stdout",
          "text": [
            "The === the\n",
            "Ukrainian === ukrainian\n",
            "president === presid\n",
            "says === say\n",
            "the === the\n",
            "country === countri\n",
            "will === will\n",
            "not === not\n",
            "forgive === forgiv\n",
            "or === or\n",
            "forget === forget\n",
            "those === those\n",
            "who === who\n",
            "murder === murder\n",
            "its === it\n",
            "civilians === civilian\n"
          ]
        }
      ]
    },
    {
      "cell_type": "code",
      "source": [
        "data=\"Information,charging,deploying,deploy,stressed,stress\""
      ],
      "metadata": {
        "id": "Np41PpOCeyMx"
      },
      "execution_count": 103,
      "outputs": []
    },
    {
      "cell_type": "code",
      "source": [
        "doc2=BBC(data)"
      ],
      "metadata": {
        "id": "dT1yrWQNfGNn"
      },
      "execution_count": 104,
      "outputs": []
    },
    {
      "cell_type": "code",
      "source": [
        "for d in doc2:\n",
        "  if d.is_alpha:\n",
        "    print(d,\"===\",d.lemma_,\"===\",st.stem(d.text))"
      ],
      "metadata": {
        "colab": {
          "base_uri": "https://localhost:8080/"
        },
        "id": "eIdHtSs4fJ3V",
        "outputId": "d63aca92-3f56-4b99-b33a-9a8b6c398d75"
      },
      "execution_count": 105,
      "outputs": [
        {
          "output_type": "stream",
          "name": "stdout",
          "text": [
            "Information === information === inform\n",
            "charging === charge === charg\n",
            "deploying === deploy === deploy\n",
            "deploy === deploy === deploy\n",
            "stressed === stressed === stress\n",
            "stress === stress === stress\n"
          ]
        }
      ]
    }
  ]
}